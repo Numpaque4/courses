{
 "cells": [
  {
   "cell_type": "code",
   "execution_count": 1,
   "metadata": {
    "executionInfo": {
     "elapsed": 12,
     "status": "ok",
     "timestamp": 1658754373312,
     "user": {
      "displayName": "SEBASTIAN DAVID MARTINEZ CASTAÑO",
      "userId": "09201995470765778626"
     },
     "user_tz": 300
    },
    "id": "eYy4FBQodk-C"
   },
   "outputs": [],
   "source": [
    "import numpy as np\n",
    "import matplotlib.pyplot as plt\n",
    "from tqdm import tqdm\n",
    "%matplotlib inline"
   ]
  },
  {
   "cell_type": "code",
   "execution_count": 2,
   "metadata": {
    "colab": {
     "base_uri": "https://localhost:8080/",
     "height": 282
    },
    "executionInfo": {
     "elapsed": 733,
     "status": "ok",
     "timestamp": 1658755431965,
     "user": {
      "displayName": "SEBASTIAN DAVID MARTINEZ CASTAÑO",
      "userId": "09201995470765778626"
     },
     "user_tz": 300
    },
    "id": "tiMLwkfEdk-I",
    "outputId": "440b0eea-bede-4207-b3c4-aef1f40ec823"
   },
   "outputs": [
    {
     "data": {
      "text/plain": [
       "<matplotlib.collections.LineCollection at 0x1930fb509e8>"
      ]
     },
     "execution_count": 2,
     "metadata": {},
     "output_type": "execute_result"
    },
    {
     "data": {
      "image/png": "[encoded data removed]",
      "text/plain": [
       "<Figure size 432x288 with 1 Axes>"
      ]
     },
     "metadata": {
      "needs_background": "light"
     },
     "output_type": "display_data"
    }
   ],
   "source": [
    "def f(x):\n",
    "    return np.cos(x)\n",
    "\n",
    "xmin=0\n",
    "xmax=2\n",
    "x=np.linspace(xmin,xmax,1000)\n",
    "\n",
    "plt.plot(x,f(x))\n",
    "plt.hlines(0,xmin,xmax)"
   ]
  },
  {
   "cell_type": "markdown",
   "metadata": {
    "id": "HizfK4s_dk-K"
   },
   "source": [
    "# Método de bisección\n",
    "<img src=\"bis.png\" alt=\"drawing\" width=\"500\"/>\n",
    "\n",
    "#### Algoritmo\n",
    "0. Semillas $f(x), a, b$\n",
    "\n",
    "\n",
    "1. Check $f(a)f(b) < 0$\n",
    "\n",
    "\n",
    "2. $p=\\frac{a+b}{2}$\n",
    "\n",
    "\n",
    "3. Si $f(a)f(p)<0$ entonces $b=p$\n",
    "\n",
    "\n",
    "4. Si $f(p)f(b)<0$ entonces $a=p$\n",
    "\n",
    "\n",
    "5. Repetir hasta que se cumpla alguna: \n",
    "$$|f(p)|<Tolerancia\\approx 0   \\checkmark$$ \n",
    "\n",
    "$$N_{iter}=N_{max}$$\n",
    "\n",
    "$$|p_n-p_{n-1}|<Resolucion\\approx 0$$\n",
    "\n",
    "$$\\frac{|p_n-p_{n-1}|}{|p_n|}< Resolución \\%$$"
   ]
  },
  {
   "cell_type": "code",
   "execution_count": 3,
   "metadata": {
    "executionInfo": {
     "elapsed": 251,
     "status": "ok",
     "timestamp": 1658756509171,
     "user": {
      "displayName": "SEBASTIAN DAVID MARTINEZ CASTAÑO",
      "userId": "09201995470765778626"
     },
     "user_tz": 300
    },
    "id": "5DLYZfNBdk-N"
   },
   "outputs": [],
   "source": [
    "def biseccion(f,a,b,tol):\n",
    "  if f(a)*f(b)>=0:\n",
    "    return 'Error'\n",
    "\n",
    "  else:\n",
    "    p=(a+b)/2\n",
    "    n=0\n",
    "    while abs(f(p))>tol:\n",
    "\n",
    "      if f(a)*f(p)<0:\n",
    "        b=p\n",
    "      if f(p)*f(b)<0:\n",
    "        a=p\n",
    "\n",
    "      p=(a+b)/2\n",
    "      n+=1\n",
    "    print('Raiz encontrada en',n,'iteraciones')\n",
    "\n",
    "    return p\n"
   ]
  },
  {
   "cell_type": "code",
   "execution_count": 4,
   "metadata": {
    "colab": {
     "base_uri": "https://localhost:8080/"
    },
    "executionInfo": {
     "elapsed": 189,
     "status": "ok",
     "timestamp": 1658756565711,
     "user": {
      "displayName": "SEBASTIAN DAVID MARTINEZ CASTAÑO",
      "userId": "09201995470765778626"
     },
     "user_tz": 300
    },
    "id": "lhy6wrpudk-O",
    "outputId": "0a9972bd-fa13-4667-be8d-47a8d594d3e5"
   },
   "outputs": [
    {
     "name": "stdout",
     "output_type": "stream",
     "text": [
      "Raiz encontrada en 49 iteraciones\n",
      "1.5707963267948966\n"
     ]
    }
   ],
   "source": [
    "tolbis=1e-16\n",
    "rootbis=biseccion(f,0,2,tolbis)\n",
    "print(rootbis)"
   ]
  },
  {
   "cell_type": "markdown",
   "metadata": {
    "id": "HttREAKFdk-O"
   },
   "source": [
    "# Método de punto fijo\n",
    "<img src=\"fp.png\" alt=\"drawing\" width=\"500\"/>\n",
    "\n",
    "#### Algoritmo\n",
    "0. Semillas $f(x), p_0$\n",
    "\n",
    "\n",
    "1. Escribir $f(x)=g(x)-x$ o construir $g(x)=f(x)+x$\n",
    "\n",
    "\n",
    "2. $f(p_0) =g(p_0) -p_0$\n",
    "\n",
    "\n",
    "3. $p_n=g(p_n)$\n",
    "\n",
    "\n",
    "4. Repetir hasta que se cumpla alguna: \n",
    "$$|f(p)|<Tolerancia\\approx 0$$\n",
    "\n",
    "$$N_{iter}=N_{max} \\checkmark$$\n",
    "\n",
    "$$|p_n-p_{n-1}|<Resolucion\\approx 0$$\n",
    "\n",
    "$$\\frac{|p_n-p_{n-1}|}{|p_n|}< Resolución \\%$$\n",
    "\n",
    "# Cuidado con la convergencia\n",
    "<img src=\"fp2.jpg\" alt=\"drawing\" width=\"500\"/>\n",
    "\n",
    "#### Capítulo 2: Burden - Numerical analysis"
   ]
  },
  {
   "cell_type": "code",
   "execution_count": 5,
   "metadata": {
    "executionInfo": {
     "elapsed": 203,
     "status": "ok",
     "timestamp": 1658757449630,
     "user": {
      "displayName": "SEBASTIAN DAVID MARTINEZ CASTAÑO",
      "userId": "09201995470765778626"
     },
     "user_tz": 300
    },
    "id": "eP0eURx9dk-Q"
   },
   "outputs": [],
   "source": [
    "def punto_fijo(f,p,Nmax):\n",
    "  def g(x):\n",
    "    return f(x)+x\n",
    "\n",
    "  n=0\n",
    "  while n<Nmax:\n",
    "    p=g(p)\n",
    "    n+=1\n",
    "\n",
    "  return p"
   ]
  },
  {
   "cell_type": "code",
   "execution_count": 6,
   "metadata": {
    "colab": {
     "base_uri": "https://localhost:8080/"
    },
    "executionInfo": {
     "elapsed": 189,
     "status": "ok",
     "timestamp": 1658757894662,
     "user": {
      "displayName": "SEBASTIAN DAVID MARTINEZ CASTAÑO",
      "userId": "09201995470765778626"
     },
     "user_tz": 300
    },
    "id": "bT-KyTcsdk-S",
    "outputId": "93211c68-93e9-44fa-f016-4e3f775409da"
   },
   "outputs": [
    {
     "name": "stdout",
     "output_type": "stream",
     "text": [
      "1.5707963267948966\n",
      "6.123233995736766e-17\n"
     ]
    }
   ],
   "source": [
    "Npf=3\n",
    "\n",
    "rootpf=punto_fijo(f,2,Npf)\n",
    "print(rootpf)\n",
    "print(abs(f(rootpf)))\n"
   ]
  },
  {
   "cell_type": "markdown",
   "metadata": {
    "id": "izxCAg6Mdk-T"
   },
   "source": [
    "# Método de Newton-Raphson (Newton)\n",
    "<img src=\"nr.png\" alt=\"drawing\" width=\"500\"/>\n",
    "\n",
    "#### Algoritmo\n",
    "0. Semillas $f(x), p_0$\n",
    "\n",
    "\n",
    "1. Derivar $f(x)$ ...... $f'(x)=\\frac{df}{dx}$ \n",
    "\n",
    "\n",
    "2. $p_n=p_{n-1} -\\frac{f(p_{n-1})}{f'(p_{n-1})}$\n",
    "\n",
    "\n",
    "3. Repetir hasta que se cumpla alguna: \n",
    "$$|f(p)|<Tolerancia\\approx 0 \\checkmark$$\n",
    "\n",
    "$$N_{iter}=N_{max}$$\n",
    "\n",
    "$$|p_n-p_{n-1}|<Resolucion\\approx 0$$\n",
    "\n",
    "$$\\frac{|p_n-p_{n-1}|}{|p_n|}< Resolución \\%$$\n",
    "\n",
    "# Cuidado con la convergencia\n",
    "<img src=\"nr2.png\" alt=\"drawing\" width=\"500\"/>\n",
    "\n",
    "#### Capítulo 2: Burden - Numerical analysis"
   ]
  },
  {
   "cell_type": "code",
   "execution_count": null,
   "metadata": {
    "id": "ScDhXGUXukqh"
   },
   "outputs": [],
   "source": []
  },
  {
   "cell_type": "code",
   "execution_count": 7,
   "metadata": {
    "executionInfo": {
     "elapsed": 179,
     "status": "ok",
     "timestamp": 1658758953351,
     "user": {
      "displayName": "SEBASTIAN DAVID MARTINEZ CASTAÑO",
      "userId": "09201995470765778626"
     },
     "user_tz": 300
    },
    "id": "_M2pcb6idk-U"
   },
   "outputs": [],
   "source": [
    "def f(x):\n",
    "  return np.cos(x)\n",
    "\n",
    "def df(x):\n",
    "  return -np.sin(x)\n",
    "\n",
    "def Newton_Rhapson(p,tol):\n",
    "  n=0\n",
    "  while abs(f(p))>tol:\n",
    "    p=p-f(p)/df(p)\n",
    "    n+=1\n",
    "  print('Raiz encontrada en',n,'iteraciones')\n",
    "  return p"
   ]
  },
  {
   "cell_type": "code",
   "execution_count": 8,
   "metadata": {
    "colab": {
     "base_uri": "https://localhost:8080/"
    },
    "executionInfo": {
     "elapsed": 4,
     "status": "ok",
     "timestamp": 1658758964156,
     "user": {
      "displayName": "SEBASTIAN DAVID MARTINEZ CASTAÑO",
      "userId": "09201995470765778626"
     },
     "user_tz": 300
    },
    "id": "ltrY0JLhdk-V",
    "outputId": "5b167131-05f0-4333-f6b2-77324434fc6d"
   },
   "outputs": [
    {
     "name": "stdout",
     "output_type": "stream",
     "text": [
      "Raiz encontrada en 4 iteraciones\n",
      "1.5707963267948966\n"
     ]
    }
   ],
   "source": [
    "tolnr=1e-16\n",
    "rootnr=Newton_Rhapson(1,tolnr)\n",
    "\n",
    "print(rootnr)"
   ]
  },
  {
   "cell_type": "markdown",
   "metadata": {
    "id": "q1Rc0Lv6dk-Y"
   },
   "source": [
    "# Método de Secante\n",
    "<img src=\"sec1.png\" alt=\"drawing\" width=\"500\"/>\n",
    "\n",
    "#### Algoritmo\n",
    "0. Semillas $f(x), p_0, p_1$\n",
    "\n",
    "\n",
    "1. $p_2=p_1-\\frac{f(p_1)(p_1 - p_0)}{f(p_1)-f(p_0)}$\n",
    "\n",
    "\n",
    "2. $p_n=p_{n-1}-\\frac{f(p_{n-1})(p_{n-1} - p_{n-2})}{f(p_{n-1})-f(p_{n-2})}$\n",
    "\n",
    "\n",
    "3. Repetir hasta que se cumpla alguna: \n",
    "$$|f(p)|<Tolerancia\\approx 0  $$ \n",
    "\n",
    "$$N_{iter}=N_{max}$$\n",
    "\n",
    "$$|p_n-p_{n-1}|<Resolucion\\approx 0 \\checkmark$$\n",
    "\n",
    "$$\\frac{|p_n-p_{n-1}|}{|p_n|}< Resolución \\%$$\n",
    "\n",
    "\n",
    "# Cuidado con la convergencia \n",
    "\n",
    "$f(p_{n-1}) \\neq f(p_{n-2})$"
   ]
  },
  {
   "cell_type": "code",
   "execution_count": 9,
   "metadata": {
    "id": "9NE-ghN3dk-Z"
   },
   "outputs": [],
   "source": [
    "def secante(f,p0,p1,resolution):\n",
    "    n=0\n",
    "    \n",
    "    pn_1=p1\n",
    "    pn_2=p0\n",
    "    \n",
    "    res=resolution\n",
    "    \n",
    "    while abs(pn_1-pn_2) > res:\n",
    "        pn=pn_1-(f(pn_1)*(pn_1-pn_2))/(f(pn_1)-f(pn_2))\n",
    "        \n",
    "        pn_2 = pn_1 +0.\n",
    "        pn_1 = pn + 0.\n",
    "        \n",
    "        n+=1\n",
    "\n",
    "    print('Raiz encontrada en',n,'iteraciones')\n",
    "    return pn\n"
   ]
  },
  {
   "cell_type": "code",
   "execution_count": 10,
   "metadata": {
    "id": "t7W6mDy3dk-a"
   },
   "outputs": [
    {
     "name": "stdout",
     "output_type": "stream",
     "text": [
      "Raiz encontrada en 6 iteraciones\n"
     ]
    },
    {
     "data": {
      "text/plain": [
       "<matplotlib.collections.LineCollection at 0x1930feba748>"
      ]
     },
     "execution_count": 10,
     "metadata": {},
     "output_type": "execute_result"
    },
    {
     "data": {
      "image/png": "[encoded data removed]",
      "text/plain": [
       "<Figure size 432x288 with 1 Axes>"
      ]
     },
     "metadata": {
      "needs_background": "light"
     },
     "output_type": "display_data"
    }
   ],
   "source": [
    "ressec=1e-16\n",
    "\n",
    "rootsec=secante(f,0,2,ressec)\n",
    "\n",
    "plt.plot(x,f(x))\n",
    "plt.plot(rootsec,f(rootsec),'o')\n",
    "plt.hlines(0,xmin,xmax)"
   ]
  },
  {
   "cell_type": "markdown",
   "metadata": {
    "id": "IPVBFT8Mdk-a"
   },
   "source": [
    "# Método de Posición falsa (Regla Falsa o Regula Falsi)\n",
    "\n",
    "Combina el método de la secante con el método de bisección\n",
    "\n",
    "<img src=\"regfal1.png\" alt=\"drawing\" width=\"500\"/>\n",
    "\n",
    "#### Algoritmo\n",
    "0. Semillas $f(x), a, b$\n",
    "\n",
    "\n",
    "1. Check $f(a)f(b) < 0$\n",
    "\n",
    "\n",
    "2. $p=b-\\frac{f(b)(b-a)}{f(b)-f(a)}$\n",
    "\n",
    "\n",
    "3. Si $f(a)f(p)<0$ entonces $b=p$\n",
    "\n",
    "\n",
    "4. Si $f(p)f(b)<0$ entonces $a=p$\n",
    "\n",
    "\n",
    "5. Repetir hasta que se cumpla alguna: \n",
    "$$|f(p)|<Tolerancia\\approx 0   $$ \n",
    "\n",
    "$$N_{iter}=N_{max}$$\n",
    "\n",
    "$$|p_n-p_{n-1}|<Resolucion\\approx 0 \\checkmark$$\n",
    "\n",
    "$$\\frac{|p_n-p_{n-1}|}{|p_n|}< Resolución \\%$$"
   ]
  },
  {
   "cell_type": "code",
   "execution_count": 11,
   "metadata": {
    "id": "R98vSbqXdk-b"
   },
   "outputs": [],
   "source": [
    "def regla_falsa(f,a,b,resolution):\n",
    "    if f(a)*f(b)>=0:\n",
    "        return 'Error f(a) y f(b) deben tener signo contrario'\n",
    "    \n",
    "    res=resolution\n",
    "    n=0\n",
    "    \n",
    "    while abs(a-b)>res:\n",
    "        \n",
    "        p=b-(f(b)*(b-a))/(f(b)-f(a))\n",
    "        if f(a)*f(p)<0:\n",
    "            \n",
    "            b=p\n",
    "        if f(p)*f(b)<0:\n",
    "            a=p\n",
    "        \n",
    "        n+=1\n",
    "        \n",
    "    print('Raiz encontrada en ', n,' iteraciones')\n",
    "    \n",
    "    return p"
   ]
  },
  {
   "cell_type": "code",
   "execution_count": 12,
   "metadata": {},
   "outputs": [
    {
     "name": "stdout",
     "output_type": "stream",
     "text": [
      "Raiz encontrada en  5  iteraciones\n"
     ]
    },
    {
     "data": {
      "text/plain": [
       "<matplotlib.collections.LineCollection at 0x1930ff2e6a0>"
      ]
     },
     "execution_count": 12,
     "metadata": {},
     "output_type": "execute_result"
    },
    {
     "data": {
      "image/png": "[encoded data removed]",
      "text/plain": [
       "<Figure size 432x288 with 1 Axes>"
      ]
     },
     "metadata": {
      "needs_background": "light"
     },
     "output_type": "display_data"
    }
   ],
   "source": [
    "resregfal=1e-6\n",
    "\n",
    "rootregfal=regla_falsa(f,0,2,resregfal)\n",
    "\n",
    "plt.plot(x,f(x))\n",
    "plt.plot(rootregfal,f(rootregfal),'o')\n",
    "plt.hlines(0,xmin,xmax)"
   ]
  },
  {
   "cell_type": "markdown",
   "metadata": {
    "id": "rpmBfXDLdk-c"
   },
   "source": [
    "# Aplicación Física\n",
    "\n",
    "### Ecuación de Kepler\n",
    "\n",
    "$M(t)=E-\\epsilon \\sin(E)$\n",
    "\n",
    "donde:\n",
    "\n",
    "$M(t)=\\sqrt{\\frac{GM}{a^3}}t$\n",
    "\n",
    "$x=a(\\cos(E)-\\epsilon)$\n",
    "\n",
    "$y=b\\sin(E)$\n",
    "\n",
    "$b=a\\sqrt{1-\\epsilon^2}$\n",
    "\n",
    "- $M$: anomalia media\n",
    "- $E$: anomalía excentrica\n",
    "- $\\epsilon$: Excentricidad\n",
    "- $G$: Constante gravitacional\n",
    "- $M$: Masa cuerpo central\n",
    "- $a$: Semieje mayor\n",
    "- $b$: Semieje menor\n",
    "\n",
    "#### Problema\n",
    "\n",
    "Un satelite orbita la tierra en una trayectoria ecuatorial con excentricidad $\\epsilon=0.5$ a una distancia  geoestacionaria para el semi-eje mayor. Grafique $x(t)$ y $y(t)$ dentro del plano orbital en intervalos de 15 minutos por lo menos durante 5 horas.\n",
    "\n",
    "##### Parametros en SI\n",
    "\n",
    "- $\\epsilon=0.5$\n",
    "- $G=6.674\\times10^{-11}$ \n",
    "- $M_{tierra}=5.972\\times10^{24}$\n",
    "- $a=35900\\times10^3$ "
   ]
  },
  {
   "cell_type": "code",
   "execution_count": 13,
   "metadata": {},
   "outputs": [],
   "source": [
    "#Parametros\n",
    "\n",
    "eps=0.5\n",
    "G=6.674e-11\n",
    "M=5.972e24\n",
    "a=35900e3\n",
    "\n",
    "b = a*(1-eps**2.0)**0.5\n",
    "n = ( G*M/a**3.0 )**0.5\n",
    "\n",
    "#Tiempos\n",
    "tmax= 20 * 60 * 60\n",
    "dt=15*60\n",
    "t_array=np.arange(0,tmax,dt)\n",
    "\n",
    "#Ecuaciones\n",
    "def kepler(E):\n",
    "    return E-eps*np.sin(E)-n*t"
   ]
  },
  {
   "cell_type": "code",
   "execution_count": 14,
   "metadata": {},
   "outputs": [
    {
     "data": {
      "text/plain": [
       "<matplotlib.collections.LineCollection at 0x1930fefeac8>"
      ]
     },
     "execution_count": 14,
     "metadata": {},
     "output_type": "execute_result"
    },
    {
     "data": {
      "image/png": "[encoded data removed]",
      "text/plain": [
       "<Figure size 432x288 with 1 Axes>"
      ]
     },
     "metadata": {
      "needs_background": "light"
     },
     "output_type": "display_data"
    }
   ],
   "source": [
    "E_try=np.linspace(-10,10,1000)\n",
    "for t in t_array:\n",
    "    plt.plot(E_try,kepler(E_try))\n",
    "plt.hlines(0,-10,10)"
   ]
  },
  {
   "cell_type": "code",
   "execution_count": 15,
   "metadata": {},
   "outputs": [
    {
     "name": "stdout",
     "output_type": "stream",
     "text": [
      "Raiz encontrada en 0 iteraciones\n",
      "Raiz encontrada en 50 iteraciones\n",
      "Raiz encontrada en 50 iteraciones\n",
      "Raiz encontrada en 50 iteraciones\n",
      "Raiz encontrada en 51 iteraciones\n",
      "Raiz encontrada en 52 iteraciones\n",
      "Raiz encontrada en 51 iteraciones\n",
      "Raiz encontrada en 52 iteraciones\n",
      "Raiz encontrada en 51 iteraciones\n",
      "Raiz encontrada en 50 iteraciones\n",
      "Raiz encontrada en 51 iteraciones\n",
      "Raiz encontrada en 51 iteraciones\n",
      "Raiz encontrada en 50 iteraciones\n",
      "Raiz encontrada en 50 iteraciones\n",
      "Raiz encontrada en 51 iteraciones\n",
      "Raiz encontrada en 52 iteraciones\n",
      "Raiz encontrada en 53 iteraciones\n",
      "Raiz encontrada en 52 iteraciones\n",
      "Raiz encontrada en 47 iteraciones\n",
      "Raiz encontrada en 53 iteraciones\n",
      "Raiz encontrada en 53 iteraciones\n",
      "Raiz encontrada en 53 iteraciones\n",
      "Raiz encontrada en 51 iteraciones\n",
      "Raiz encontrada en 52 iteraciones\n",
      "Raiz encontrada en 52 iteraciones\n",
      "Raiz encontrada en 53 iteraciones\n",
      "Raiz encontrada en 53 iteraciones\n",
      "Raiz encontrada en 53 iteraciones\n",
      "Raiz encontrada en 50 iteraciones\n",
      "Raiz encontrada en 53 iteraciones\n",
      "Raiz encontrada en 52 iteraciones\n",
      "Raiz encontrada en 48 iteraciones\n",
      "Raiz encontrada en 53 iteraciones\n",
      "Raiz encontrada en 52 iteraciones\n",
      "Raiz encontrada en 51 iteraciones\n",
      "Raiz encontrada en 51 iteraciones\n",
      "Raiz encontrada en 50 iteraciones\n",
      "Raiz encontrada en 51 iteraciones\n",
      "Raiz encontrada en 53 iteraciones\n",
      "Raiz encontrada en 53 iteraciones\n",
      "Raiz encontrada en 51 iteraciones\n",
      "Raiz encontrada en 52 iteraciones\n",
      "Raiz encontrada en 52 iteraciones\n",
      "Raiz encontrada en 50 iteraciones\n",
      "Raiz encontrada en 53 iteraciones\n",
      "Raiz encontrada en 50 iteraciones\n",
      "Raiz encontrada en 51 iteraciones\n",
      "Raiz encontrada en 52 iteraciones\n",
      "Raiz encontrada en 52 iteraciones\n",
      "Raiz encontrada en 52 iteraciones\n",
      "Raiz encontrada en 52 iteraciones\n",
      "Raiz encontrada en 49 iteraciones\n",
      "Raiz encontrada en 50 iteraciones\n",
      "Raiz encontrada en 51 iteraciones\n",
      "Raiz encontrada en 50 iteraciones\n",
      "Raiz encontrada en 52 iteraciones\n",
      "Raiz encontrada en 53 iteraciones\n",
      "Raiz encontrada en 53 iteraciones\n",
      "Raiz encontrada en 51 iteraciones\n",
      "Raiz encontrada en 53 iteraciones\n",
      "Raiz encontrada en 50 iteraciones\n",
      "Raiz encontrada en 51 iteraciones\n",
      "Raiz encontrada en 50 iteraciones\n",
      "Raiz encontrada en 50 iteraciones\n",
      "Raiz encontrada en 51 iteraciones\n",
      "Raiz encontrada en 52 iteraciones\n",
      "Raiz encontrada en 51 iteraciones\n",
      "Raiz encontrada en 52 iteraciones\n",
      "Raiz encontrada en 51 iteraciones\n",
      "Raiz encontrada en 51 iteraciones\n",
      "Raiz encontrada en 49 iteraciones\n",
      "Raiz encontrada en 51 iteraciones\n",
      "Raiz encontrada en 51 iteraciones\n",
      "Raiz encontrada en 51 iteraciones\n",
      "Raiz encontrada en 47 iteraciones\n",
      "Raiz encontrada en 51 iteraciones\n",
      "Raiz encontrada en 51 iteraciones\n",
      "Raiz encontrada en 51 iteraciones\n",
      "Raiz encontrada en 51 iteraciones\n",
      "Raiz encontrada en 49 iteraciones\n"
     ]
    },
    {
     "data": {
      "text/plain": [
       "<matplotlib.legend.Legend at 0x193100cf198>"
      ]
     },
     "execution_count": 15,
     "metadata": {},
     "output_type": "execute_result"
    },
    {
     "data": {
      "image/png": "[encoded data removed]",
      "text/plain": [
       "<Figure size 432x288 with 1 Axes>"
      ]
     },
     "metadata": {
      "needs_background": "light"
     },
     "output_type": "display_data"
    }
   ],
   "source": [
    "E_sol=np.zeros(len(t_array))\n",
    "tol=1e-15\n",
    "a0=-10\n",
    "b0=10\n",
    "\n",
    "i=0\n",
    "\n",
    "for t in t_array:\n",
    "    E_sol[i]=biseccion(kepler,a0,b0,tol)\n",
    "    i+=1\n",
    "    \n",
    "x=a*(np.cos(E_sol)-eps)\n",
    "y=b*np.sin(E_sol)\n",
    "\n",
    "plt.figure()\n",
    "plt.xlabel('x')\n",
    "plt.ylabel('y')\n",
    "plt.plot(0,0,'o',color='blue',label='Tierra')\n",
    "plt.plot(x,y,'o-',color='gray',label='Trayectoria')\n",
    "plt.plot(x[0],y[0],'o',color='red',label='Posición inicial')\n",
    "plt.legend(loc=2)"
   ]
  },
  {
   "cell_type": "code",
   "execution_count": null,
   "metadata": {},
   "outputs": [],
   "source": []
  }
 ],
 "metadata": {
  "colab": {
   "name": "Taller # 2 Raices.ipynb",
   "provenance": []
  },
  "kernelspec": {
   "display_name": "Python 3",
   "language": "python",
   "name": "python3"
  },
  "language_info": {
   "codemirror_mode": {
    "name": "ipython",
    "version": 3
   },
   "file_extension": ".py",
   "mimetype": "text/x-python",
   "name": "python",
   "nbconvert_exporter": "python",
   "pygments_lexer": "ipython3",
   "version": "3.7.3"
  }
 },
 "nbformat": 4,
 "nbformat_minor": 1
}
